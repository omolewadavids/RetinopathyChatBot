{
 "cells": [
  {
   "cell_type": "markdown",
   "metadata": {},
   "source": [
    "# Web Application Deployment"
   ]
  },
  {
   "cell_type": "code",
   "execution_count": 10,
   "metadata": {},
   "outputs": [
    {
     "name": "stdout",
     "output_type": "stream",
     "text": [
      "Collecting anvil-uplink\n",
      "  Using cached https://files.pythonhosted.org/packages/7d/f4/7e1ff2590221527e46c33de1b67120e3f5f6f39693227df16d0fe681c657/anvil_uplink-0.3.22-py2.py3-none-any.whl\n",
      "Collecting argparse (from anvil-uplink)\n",
      "  Using cached https://files.pythonhosted.org/packages/f2/94/3af39d34be01a24a6e65433d19e107099374224905f1e0cc6bbe1fd22a2f/argparse-1.4.0-py2.py3-none-any.whl\n",
      "Collecting ws4py==0.3.4 (from anvil-uplink)\n",
      "Requirement already satisfied: future in c:\\programdata\\anaconda3\\lib\\site-packages (from anvil-uplink) (0.17.1)\n",
      "Requirement already satisfied: six in c:\\programdata\\anaconda3\\lib\\site-packages (from anvil-uplink) (1.12.0)\n",
      "Installing collected packages: argparse, ws4py, anvil-uplink\n"
     ]
    },
    {
     "name": "stderr",
     "output_type": "stream",
     "text": [
      "ERROR: Could not install packages due to an EnvironmentError: [WinError 5] Access is denied: 'C:\\\\ProgramData\\\\Anaconda3\\\\Lib\\\\site-packages\\\\tables\\\\__init__.py'\n",
      "Consider using the `--user` option or check the permissions.\n",
      "\n"
     ]
    }
   ],
   "source": [
    "!pip install anvil-uplink"
   ]
  },
  {
   "cell_type": "code",
   "execution_count": 24,
   "metadata": {},
   "outputs": [],
   "source": [
    "import keras\n",
    "from keras.models import load_model\n",
    "import os\n",
    "import anvil.media\n",
    "import numpy as np\n",
    "from keras.preprocessing import image\n",
    "from keras.preprocessing.sequence import pad_sequences"
   ]
  },
  {
   "cell_type": "code",
   "execution_count": 12,
   "metadata": {},
   "outputs": [],
   "source": [
    "retModelDir = '/Users/adara/CAPSTONEPROJECT/DiabeticRetinopathy'\n",
    "eyeNetBotDir = '/Users/adara/CAPSTONEPROJECT/eyeNetBot'\n",
    "wordVocabDir = '/Users/adara/CAPSTONEPROJECT/eyeNetBot'"
   ]
  },
  {
   "cell_type": "code",
   "execution_count": 13,
   "metadata": {},
   "outputs": [
    {
     "name": "stderr",
     "output_type": "stream",
     "text": [
      "C:\\ProgramData\\Anaconda3\\lib\\site-packages\\tensorflow_core\\python\\framework\\indexed_slices.py:424: UserWarning: Converting sparse IndexedSlices to a dense Tensor of unknown shape. This may consume a large amount of memory.\n",
      "  \"Converting sparse IndexedSlices to a dense Tensor of unknown shape. \"\n"
     ]
    }
   ],
   "source": [
    "model = load_model('/Users/adara/CAPSTONEPROJECT/DiabeticRetinopathy/modelRet.h5')\n",
    "chatModel = load_model('/Users/adara/CAPSTONEPROJECT/eyeNetBot/chatModel.h5')"
   ]
  },
  {
   "cell_type": "code",
   "execution_count": 14,
   "metadata": {},
   "outputs": [],
   "source": [
    "import pickle\n",
    "vocab = pickle.load(open(os.path.join(wordVocabDir, \"vocab.pkl\"), \"rb\"))\n",
    "stop_words = pickle.load(open(os.path.join(wordVocabDir, \"stop_words.pkl\"), \"rb\"))\n",
    "word_idx = pickle.load(open(os.path.join(wordVocabDir, \"word_idx.pkl\"), \"rb\"))"
   ]
  },
  {
   "cell_type": "code",
   "execution_count": 15,
   "metadata": {},
   "outputs": [
    {
     "name": "stdout",
     "output_type": "stream",
     "text": [
      "Connecting to wss://anvil.works/uplink\n",
      "Anvil websocket open\n",
      "Authenticated OK\n"
     ]
    }
   ],
   "source": [
    "import anvil.server\n",
    "\n",
    "anvil.server.connect(\"35KHU4CLLVXFT6LWX4G34K5F-5RJCZTHEBWY35MGS\")"
   ]
  },
  {
   "cell_type": "markdown",
   "metadata": {},
   "source": [
    "#### For Diabetic Retinopathy Prediction"
   ]
  },
  {
   "cell_type": "code",
   "execution_count": null,
   "metadata": {},
   "outputs": [],
   "source": [
    "import anvil.media\n",
    "import numpy as np\n",
    "from keras.preprocessing import image\n",
    "@anvil.server.callable\n",
    "def classify_image(file):\n",
    "    with anvil.media.TempFile(file) as filename:\n",
    "        img = load_img(filename)\n",
    "        \n",
    "    img = img.resize((150,150), resample=PIL.Image.BICUBIC)\n",
    "    arr = img_to_array(img)\n",
    "    arr = np.expand_dims(arr, axis=0)\n",
    "    arr /= 255.0\n",
    "    \n",
    "    score = model.predict(arr)\n",
    "    \n",
    "    return score"
   ]
  },
  {
   "cell_type": "code",
   "execution_count": 26,
   "metadata": {},
   "outputs": [],
   "source": [
    "import anvil.media\n",
    "@anvil.server.callable\n",
    "def classify_image(file):\n",
    "    with anvil.media.TempFile(file) as filename:\n",
    "        img = image.load_img(filename, target_size=(150,150))\n",
    "    img_tensor = image.img_to_array(img)\n",
    "    img_tensor = np.expand_dims(img_tensor, axis=0)\n",
    "    img_tensor /= 255.\n",
    "    \n",
    "    score = model.predict(img_tensor)\n",
    "    \n",
    "    return score, np.argmax(score)\n"
   ]
  },
  {
   "cell_type": "code",
   "execution_count": null,
   "metadata": {},
   "outputs": [],
   "source": []
  },
  {
   "cell_type": "code",
   "execution_count": null,
   "metadata": {},
   "outputs": [],
   "source": []
  },
  {
   "cell_type": "code",
   "execution_count": 36,
   "metadata": {},
   "outputs": [
    {
     "data": {
      "image/png": "[encoded data removed]",
      "text/plain": [
       "<Figure size 640x480 with 1 Axes>"
      ]
     },
     "metadata": {},
     "output_type": "display_data"
    }
   ],
   "source": [
    "import matplotlib.pyplot as plt; plt.rcdefaults()\n",
    "import numpy as np\n",
    "import matplotlib.pyplot as plt\n",
    "\n",
    "objects = ('stage0', 'stage1', 'stage2', 'stage3', 'stage4')\n",
    "y_pos = np.arange(len(objects))\n",
    "performance = list(classify_image('11854_right.jpeg')[0])\n",
    "\n",
    "plt.bar(y_pos, performance, align='center', alpha=0.5)\n",
    "plt.xticks(y_pos, objects)\n",
    "plt.ylabel('Probability')\n",
    "plt.title('Probability Distribution')\n",
    "\n",
    "plt.show()"
   ]
  },
  {
   "cell_type": "code",
   "execution_count": 19,
   "metadata": {},
   "outputs": [],
   "source": [
    "from nltk.corpus import stopwords\n",
    "import numpy as np\n",
    "import re\n",
    "import random\n",
    "import os\n",
    "import time\n",
    "import json\n",
    "import nltk\n",
    "from nltk.stem.lancaster import LancasterStemmer\n",
    "stemmer = LancasterStemmer()"
   ]
  },
  {
   "cell_type": "code",
   "execution_count": 20,
   "metadata": {},
   "outputs": [],
   "source": [
    "def vectorize(data):\n",
    "    inputs = []\n",
    "    wrds = nltk.word_tokenize(data)\n",
    "    words = [stemmer.stem(w.lower()) for w in wrds if w != \"?\"]\n",
    "    filtered_sentence = [w for w in words if not w in stop_words]\n",
    "    [filtered_sentence.pop(i) for i, w in enumerate(filtered_sentence) if w not in vocab]\n",
    "    \n",
    "    inner_list = []\n",
    "    \n",
    "    for ent in filtered_sentence:\n",
    "        inner_list.append(word_idx[ent])\n",
    "    inputs.append(inner_list)\n",
    "    \n",
    "    return pad_sequences(inputs, maxlen = 8)"
   ]
  },
  {
   "cell_type": "markdown",
   "metadata": {},
   "source": [
    "#### For eyeNetChatBot"
   ]
  },
  {
   "cell_type": "code",
   "execution_count": 22,
   "metadata": {},
   "outputs": [],
   "source": [
    "@anvil.server.callable\n",
    "def chat(inp):\n",
    "\n",
    "    if inp.lower() == \"quit\":\n",
    "        return 'bye'\n",
    "    \n",
    "    inp = vectorize(inp)\n",
    "    results = model_1.predict(inp, 12)[0]\n",
    "    results_index = np.argmax(results)\n",
    "    output = labels[results_index]\n",
    "\n",
    "    if results[results_index] > 0.7:\n",
    "        for tg in data[\"intents\"]:\n",
    "            if tg['tag'] == output:\n",
    "                responses = tg['responses']\n",
    "        return random.choice(responses)\n",
    "    else:\n",
    "        # create a database and store the question\n",
    "        return \"I didn't understand that, try again.\""
   ]
  },
  {
   "cell_type": "code",
   "execution_count": null,
   "metadata": {},
   "outputs": [],
   "source": []
  }
 ],
 "metadata": {
  "kernelspec": {
   "display_name": "Python 3",
   "language": "python",
   "name": "python3"
  },
  "language_info": {
   "codemirror_mode": {
    "name": "ipython",
    "version": 3
   },
   "file_extension": ".py",
   "mimetype": "text/x-python",
   "name": "python",
   "nbconvert_exporter": "python",
   "pygments_lexer": "ipython3",
   "version": "3.7.4"
  }
 },
 "nbformat": 4,
 "nbformat_minor": 2
}
